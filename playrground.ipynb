{
 "cells": [
  {
   "cell_type": "code",
   "execution_count": 1,
   "metadata": {},
   "outputs": [],
   "source": [
    "import pyDOE2"
   ]
  },
  {
   "cell_type": "markdown",
   "metadata": {},
   "source": [
    "# Scenario\n",
    "\n",
    "Task 1: generate DOE layouts\n",
    "\n",
    "- 4 different media components\n",
    "- 48 different wells\n",
    "- In each well the different components are mixed at different volumes\n",
    "\n",
    "Task 2: Take a DOE layout and turn that into opentrons code\n"
   ]
  },
  {
   "cell_type": "markdown",
   "metadata": {},
   "source": [
    "### Task 1\n"
   ]
  },
  {
   "cell_type": "code",
   "execution_count": 23,
   "metadata": {},
   "outputs": [],
   "source": [
    "num_media_components = 4\n",
    "media_factors = {\n",
    "    \"C_source_1\": 2,\n",
    "    \"C_source_2\": 3,\n",
    "    \"AB_1\": 3,\n",
    "    \"AB_2\": 4,\n",
    "}\n",
    "num_wells = 48"
   ]
  },
  {
   "cell_type": "code",
   "execution_count": 10,
   "metadata": {},
   "outputs": [],
   "source": [
    "rows = [\"A\", \"B\", \"C\", \"D\", \"E\", \"F\", \"G\", \"H\"]\n",
    "cols = [str(i) for i in range(1, 13)]"
   ]
  },
  {
   "cell_type": "code",
   "execution_count": 14,
   "metadata": {},
   "outputs": [],
   "source": [
    "iToWell = {\n",
    "    (i * 12 + j): f\"{row}{col}\"\n",
    "    for i, row in enumerate(rows)\n",
    "    for j, col in enumerate(cols)\n",
    "}\n",
    "wellToI = {iToWell[key]: key for key in iToWell}"
   ]
  },
  {
   "cell_type": "code",
   "execution_count": 27,
   "metadata": {},
   "outputs": [],
   "source": [
    "doe_factors = pyDOE2.lhs(\n",
    "    num_media_components, num_wells, criterion=\"corr\", random_state=42\n",
    ")"
   ]
  },
  {
   "cell_type": "code",
   "execution_count": 28,
   "metadata": {},
   "outputs": [],
   "source": [
    "DOE_config = {well: factor for well,\n",
    "              factor in zip(iToWell.values(), doe_factors)}"
   ]
  },
  {
   "cell_type": "code",
   "execution_count": null,
   "metadata": {},
   "outputs": [],
   "source": [
    "def discretize():\n",
    "    return\n",
    "\n",
    "DOE_config_discrete = {well: }"
   ]
  },
  {
   "cell_type": "code",
   "execution_count": 29,
   "metadata": {},
   "outputs": [
    {
     "data": {
      "text/plain": [
       "{'A1': array([0.21260578, 0.71546926, 0.93818431, 0.18376795]),\n",
       " 'A2': array([0.24450515, 0.26054383, 0.5298235 , 0.95903915]),\n",
       " 'A3': array([0.08802777, 0.3829006 , 0.01217082, 0.29349725]),\n",
       " 'A4': array([0.20246786, 0.78997397, 0.63289212, 0.9266841 ]),\n",
       " 'A5': array([0.88766447, 0.12095552, 0.4205501 , 0.41146879]),\n",
       " 'A6': array([0.55688644, 0.935895  , 0.8982139 , 0.61988824]),\n",
       " 'A7': array([0.91224562, 0.1768906 , 0.83000916, 0.527767  ]),\n",
       " 'A8': array([0.18698057, 0.240205  , 0.30592857, 0.32235763]),\n",
       " 'A9': array([0.80523682, 0.7024204 , 0.59955358, 0.37481103]),\n",
       " 'A10': array([0.5256047 , 0.53214269, 0.08195191, 0.79310253]),\n",
       " 'A11': array([0.69928142, 0.63617669, 0.96178153, 0.65596578]),\n",
       " 'A12': array([0.07288016, 0.45641388, 0.71306981, 0.39003326]),\n",
       " 'B1': array([0.04869681, 0.29586938, 0.10532611, 0.1010587 ]),\n",
       " 'B2': array([0.10599766, 0.83824804, 0.31493117, 0.49119763]),\n",
       " 'B3': array([0.87161439, 0.34988103, 0.13952003, 0.58328526]),\n",
       " 'B4': array([0.98565569, 0.1986466 , 0.83678168, 0.04675736]),\n",
       " 'B5': array([0.62714408, 0.90841087, 0.26941697, 0.06265697]),\n",
       " 'B6': array([0.03245296, 0.36267746, 0.92636875, 0.01535047]),\n",
       " 'B7': array([0.49216878, 0.50815588, 0.16494574, 0.21248973]),\n",
       " 'B8': array([0.30310254, 0.55611912, 0.74816359, 0.71715827]),\n",
       " 'B9': array([0.50740338, 0.43385693, 0.57444064, 0.28226256]),\n",
       " 'B10': array([0.2832059 , 0.09094493, 0.51108036, 0.67913422]),\n",
       " 'B11': array([0.77296276, 0.41211489, 0.39430103, 0.90446885]),\n",
       " 'B12': array([0.3697078 , 0.06938226, 0.37360288, 0.58631517]),\n",
       " 'C1': array([0.67518657, 0.31255648, 0.65708043, 0.20497047]),\n",
       " 'C2': array([0.16451271, 0.22849988, 0.8905052 , 0.14577616]),\n",
       " 'C3': array([0.31539218, 0.8829022 , 0.28029725, 0.87928291]),\n",
       " 'C4': array([0.7351652 , 0.619043  , 0.54514022, 0.85890408]),\n",
       " 'C5': array([0.95663447, 0.27852564, 0.6669209 , 0.25668005]),\n",
       " 'C6': array([0.5990084 , 0.80773431, 0.7994674 , 0.83147263]),\n",
       " 'C7': array([0.75209989, 0.74197813, 0.19742957, 0.02872443]),\n",
       " 'C8': array([0.72831406, 0.03305282, 0.33555623, 0.14594375]),\n",
       " 'C9': array([0.37927087, 0.75533366, 0.48830718, 0.98375203]),\n",
       " 'C10': array([0.47256213, 0.94973059, 0.44408743, 0.12171488]),\n",
       " 'C11': array([0.60842801, 0.99542699, 0.69997978, 0.63452084]),\n",
       " 'C12': array([0.25181855, 0.81467181, 0.181727  , 0.55997144]),\n",
       " 'D1': array([0.65841579, 0.86108638, 0.61445795, 0.42157691]),\n",
       " 'D2': array([0.01351714, 0.97036733, 0.78729343, 0.44975639]),\n",
       " 'D3': array([0.96350472, 0.49041211, 0.76512699, 0.47707641]),\n",
       " 'D4': array([0.81411086, 0.06040932, 0.09349604, 0.24516207]),\n",
       " 'D5': array([0.57282133, 0.00999129, 0.98494973, 0.95651561]),\n",
       " 'D6': array([0.4507033 , 0.1578333 , 0.24390063, 0.5013879 ]),\n",
       " 'D7': array([0.93465663, 0.59806209, 0.4732038 , 0.76235339]),\n",
       " 'D8': array([0.83589189, 0.12538005, 0.05432407, 0.35105682]),\n",
       " 'D9': array([0.39683531, 0.65629767, 0.03259289, 0.70472498]),\n",
       " 'D10': array([0.34596046, 0.5779471 , 0.86065509, 0.77131297]),\n",
       " 'D11': array([0.12607574, 0.46774893, 0.22314484, 0.83721502]),\n",
       " 'D12': array([0.43332369, 0.68274754, 0.4130821 , 0.73206492])}"
      ]
     },
     "execution_count": 29,
     "metadata": {},
     "output_type": "execute_result"
    }
   ],
   "source": [
    "DOE_config"
   ]
  },
  {
   "cell_type": "code",
   "execution_count": null,
   "metadata": {},
   "outputs": [],
   "source": []
  }
 ],
 "metadata": {
  "kernelspec": {
   "display_name": "python-course-mres",
   "language": "python",
   "name": "python3"
  },
  "language_info": {
   "codemirror_mode": {
    "name": "ipython",
    "version": 3
   },
   "file_extension": ".py",
   "mimetype": "text/x-python",
   "name": "python",
   "nbconvert_exporter": "python",
   "pygments_lexer": "ipython3",
   "version": "3.10.2"
  }
 },
 "nbformat": 4,
 "nbformat_minor": 2
}
